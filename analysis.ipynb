{
 "cells": [
  {
   "cell_type": "code",
   "execution_count": 4,
   "metadata": {},
   "outputs": [],
   "source": [
    "import numpy as np\n",
    "import pandas as pd\n",
    "import seaborn as sns\n",
    "import json\n",
    "import warnings\n",
    "import math\n",
    "import matplotlib.pyplot as plt\n",
    "from sklearn.model_selection import train_test_split\n",
    "from sklearn.preprocessing import StandardScaler\n",
    "from statsmodels.stats.diagnostic import kstest_normal\n",
    "\n",
    "import torch\n",
    "import gpytorch\n",
    "from gpytorch.kernels import Kernel\n",
    "from gpytorch.functions import RBFCovariance\n",
    "from gpytorch.settings import trace_mode\n",
    "from gpytorch.utils.warnings import GPInputWarning"
   ]
  },
  {
   "cell_type": "code",
   "execution_count": 5,
   "metadata": {},
   "outputs": [],
   "source": [
    "with open(\"rNoOuputNoReg.json\", \"r\") as final:\n",
    "    rNoOuputNoReg=json.load(final)\n",
    "with open(\"rOuputNoReg.json\", \"r\") as final:\n",
    "    rOuputNoReg=json.load(final)\n",
    "with open(\"rNoOuputReg2.json\", \"r\") as final:\n",
    "    rNoOuputReg2=json.load(final)\n",
    "with open(\"rOuputReg2.json\", \"r\") as final:\n",
    "    rOuputReg2=json.load(final)\n",
    "with open(\"rNoOuputReg1.json\", \"r\") as final:\n",
    "    rNoOuputReg1=json.load(final)\n",
    "with open(\"rOuputReg1.json\", \"r\") as final:\n",
    "    rOuputReg1=json.load(final)"
   ]
  },
  {
   "cell_type": "code",
   "execution_count": 6,
   "metadata": {},
   "outputs": [],
   "source": [
    "def getPredIdx(data):\n",
    "    idx=[]\n",
    "    for i in data['respVar']:\n",
    "        if len(i['index'])>0:\n",
    "            idx.append(i['index'])\n",
    "    return idx\n",
    "\n",
    "def minLnonRelevant(data):\n",
    "    m=0\n",
    "    idx=0\n",
    "    for i in data['nonpredIdx'][0]:\n",
    "        if data['lengthscales'][i]>m:\n",
    "            m=data['lengthscales'][i]\n",
    "            idx=i\n",
    "    return idx\n",
    "\n",
    "def getMinScoreLnonPred(data):\n",
    "    scores=(1/np.array(data['lengthscales'])**2)/np.sum(1/np.array(data['lengthscales'])**2).item()\n",
    "    return scores[minLnonRelevant(data)]\n",
    "\n",
    "def getMinVarResponse(data):\n",
    "    s=0\n",
    "    minR=100000\n",
    "    minidx=0\n",
    "    for i in getPredIdx(data):\n",
    "        s=s+data['respVar'][i[0]]['respVar'][0]\n",
    "        if data['respVar'][i[0]]['respVar'][0]<minR:\n",
    "            minR=data['respVar'][i[0]]['respVar'][0]\n",
    "            minidx=i[0]\n",
    "    scores=(1/np.array(data['lengthscales'])**2)/np.sum(1/np.array(data['lengthscales'])**2).item()\n",
    "\n",
    "    return [minidx,1-(minR/s),scores[minidx]]\n",
    "\n",
    "def getLossSample(data, threshold, w):\n",
    "    l=(getMinScoreLnonPred(data)-threshold)**2 + w*getMinVarResponse(data)[1]*(getMinVarResponse(data)[2]-threshold)**2\n",
    "    return l\n",
    "\n",
    "def getLossDataset(data, threshold, w):\n",
    "    s=0\n",
    "    for i in data:\n",
    "        s=s+getLossSample(i, threshold, w)\n",
    "    return s/len(data)\n",
    "    "
   ]
  },
  {
   "attachments": {},
   "cell_type": "markdown",
   "metadata": {},
   "source": [
    "## Optimizing global threshold (critical score value)"
   ]
  },
  {
   "cell_type": "code",
   "execution_count": 7,
   "metadata": {},
   "outputs": [],
   "source": [
    "def globalThreshold(data,min_,max_,n1,n2,weight):\n",
    "    bestSc=[100000,100000,100000,100000,100000]\n",
    "    d={}\n",
    "    for i in range(n1):\n",
    "        t=np.random.uniform(min_,max_,1).item()\n",
    "        s=getLossDataset(data,t,weight)\n",
    "        if s<bestSc[0]:\n",
    "            bestSc[-1]=s\n",
    "            d[str(s)]=t\n",
    "            bestSc.sort()\n",
    "        else:\n",
    "            continue\n",
    "    ts=[]\n",
    "    for i in bestSc:\n",
    "        ts.append(d[str(i)])\n",
    "    m=np.array(ts).mean().item()\n",
    "    ts.sort()\n",
    "    diff=ts[-1]-m\n",
    "    bestS=10000\n",
    "    bestT=m\n",
    "    for i in range(n2):\n",
    "        t=np.random.normal(loc=m, scale=diff, size=1).item()\n",
    "        s=getLossDataset(data,t,weight)\n",
    "        if s<bestS:\n",
    "            bestS=s\n",
    "            bestT=t\n",
    "    return t, bestS\n",
    "\n",
    "def detScore(data, threshold):\n",
    "    r=[]\n",
    "    for i in data:\n",
    "        scores=[]\n",
    "        sum_=np.array(i['lengthscales']).sum().item()\n",
    "        for j in i['lengthscales']:\n",
    "            scores.append(j/sum_)\n",
    "            thresh=np.array(scores)-threshold\n",
    "        flag=True\n",
    "        for j in i['nonpredIdx'][0]:\n",
    "            if thresh[j]>0:\n",
    "                for k in getPredIdx(i):\n",
    "                    if thresh[k]<0:\n",
    "                        continue\n",
    "                    else:\n",
    "                        flag=False\n",
    "            else:\n",
    "                flag=False\n",
    "        if flag==True:\n",
    "            r.append(1)\n",
    "        else:\n",
    "            r.append(0)\n",
    "\n",
    "    return np.array(r).sum().item()/len(r),r\n",
    "\n",
    "def thresh(data,min_,max_,n1,n2):\n",
    "    bestSc=[0,0,0]\n",
    "    d={}\n",
    "    for i in range(n1):\n",
    "        t=np.random.uniform(min_,max_,1).item()\n",
    "        s=detScore(data,t)[0]\n",
    "        if s>bestSc[0]:\n",
    "            bestSc[0]=s\n",
    "            d[str(s)]=t\n",
    "            bestSc.sort()\n",
    "        else:\n",
    "            continue\n",
    "    ts=[]\n",
    "    for i in bestSc:\n",
    "        ts.append(d[str(i)])\n",
    "    m=np.array(ts).mean().item()\n",
    "    diff=np.array(ts)-m\n",
    "    bestS=0\n",
    "    bestT=m\n",
    "    for i in range(n2):\n",
    "        t=np.random.normal(loc=m, scale=0.02, size=1).item()\n",
    "        s,r=detScore(data,t)\n",
    "        if s>bestS:\n",
    "            bestS=s\n",
    "            bestT=t\n",
    "            rr=r\n",
    "    return t, bestS, rr"
   ]
  },
  {
   "cell_type": "code",
   "execution_count": 8,
   "metadata": {},
   "outputs": [
    {
     "data": {
      "text/plain": [
       "(0.11528667805386682, 0.005216307402765807)"
      ]
     },
     "execution_count": 8,
     "metadata": {},
     "output_type": "execute_result"
    }
   ],
   "source": [
    "globalThreshold(rNoOuputNoReg,0.09,0.25,10000,5000,0.5)"
   ]
  },
  {
   "cell_type": "code",
   "execution_count": 9,
   "metadata": {},
   "outputs": [
    {
     "data": {
      "text/plain": [
       "(0.11162174508076944, 0.05)"
      ]
     },
     "execution_count": 9,
     "metadata": {},
     "output_type": "execute_result"
    }
   ],
   "source": [
    "thresh(rNoOuputNoReg,0.09,0.25,10000,5000)[:2]"
   ]
  },
  {
   "cell_type": "code",
   "execution_count": 10,
   "metadata": {},
   "outputs": [
    {
     "data": {
      "text/plain": [
       "(0.11890482451797775, 0.004970448510967728)"
      ]
     },
     "execution_count": 10,
     "metadata": {},
     "output_type": "execute_result"
    }
   ],
   "source": [
    "globalThreshold(rOuputNoReg,0.09,0.25,10000,5000,0.5)"
   ]
  },
  {
   "cell_type": "code",
   "execution_count": 11,
   "metadata": {},
   "outputs": [
    {
     "data": {
      "text/plain": [
       "(0.13603636023681456, 0.04)"
      ]
     },
     "execution_count": 11,
     "metadata": {},
     "output_type": "execute_result"
    }
   ],
   "source": [
    "thresh(rOuputNoReg,0.09,0.25,10000,5000)[:2]"
   ]
  },
  {
   "cell_type": "code",
   "execution_count": 12,
   "metadata": {},
   "outputs": [
    {
     "data": {
      "text/plain": [
       "(0.12215999896920096, 0.002445815990790676)"
      ]
     },
     "execution_count": 12,
     "metadata": {},
     "output_type": "execute_result"
    }
   ],
   "source": [
    "globalThreshold(rNoOuputReg2,0.09,0.25,10000,5000,0.5)"
   ]
  },
  {
   "cell_type": "code",
   "execution_count": 13,
   "metadata": {},
   "outputs": [
    {
     "data": {
      "text/plain": [
       "(0.10380084634945536, 0.04)"
      ]
     },
     "execution_count": 13,
     "metadata": {},
     "output_type": "execute_result"
    }
   ],
   "source": [
    "thresh(rNoOuputReg2,0.09,0.25,10000,5000)[:2]"
   ]
  },
  {
   "cell_type": "code",
   "execution_count": 14,
   "metadata": {},
   "outputs": [
    {
     "data": {
      "text/plain": [
       "(0.12283742383574983, 0.00223178706761743)"
      ]
     },
     "execution_count": 14,
     "metadata": {},
     "output_type": "execute_result"
    }
   ],
   "source": [
    "globalThreshold(rOuputReg2,0.09,0.25,10000,5000,0.5)"
   ]
  },
  {
   "cell_type": "code",
   "execution_count": 15,
   "metadata": {},
   "outputs": [
    {
     "data": {
      "text/plain": [
       "(0.07835773656409532, 0.04)"
      ]
     },
     "execution_count": 15,
     "metadata": {},
     "output_type": "execute_result"
    }
   ],
   "source": [
    "thresh(rOuputReg2,0.09,0.25,10000,5000)[:2]"
   ]
  },
  {
   "cell_type": "code",
   "execution_count": 16,
   "metadata": {},
   "outputs": [
    {
     "data": {
      "text/plain": [
       "(0.11814757340467295, 0.004672461924821961)"
      ]
     },
     "execution_count": 16,
     "metadata": {},
     "output_type": "execute_result"
    }
   ],
   "source": [
    "globalThreshold(rNoOuputReg1,0.09,0.25,10000,5000,0.5)"
   ]
  },
  {
   "cell_type": "code",
   "execution_count": 17,
   "metadata": {},
   "outputs": [
    {
     "data": {
      "text/plain": [
       "(0.10996560769203237, 0.055)"
      ]
     },
     "execution_count": 17,
     "metadata": {},
     "output_type": "execute_result"
    }
   ],
   "source": [
    "thresh(rNoOuputReg1,0.09,0.25,10000,5000)[:2]"
   ]
  },
  {
   "cell_type": "code",
   "execution_count": 18,
   "metadata": {},
   "outputs": [
    {
     "data": {
      "text/plain": [
       "(0.12391092147194299, 0.001941774425739474)"
      ]
     },
     "execution_count": 18,
     "metadata": {},
     "output_type": "execute_result"
    }
   ],
   "source": [
    "globalThreshold(rOuputReg1,0.09,0.25,10000,5000,0.5)"
   ]
  },
  {
   "cell_type": "code",
   "execution_count": 19,
   "metadata": {},
   "outputs": [
    {
     "data": {
      "text/plain": [
       "(0.14252813236868292, 0.035)"
      ]
     },
     "execution_count": 19,
     "metadata": {},
     "output_type": "execute_result"
    }
   ],
   "source": [
    "thresh(rOuputReg1,0.09,0.25,10000,5000)[:2]"
   ]
  },
  {
   "attachments": {},
   "cell_type": "markdown",
   "metadata": {},
   "source": [
    "## In sample optim threshold"
   ]
  },
  {
   "attachments": {},
   "cell_type": "markdown",
   "metadata": {},
   "source": [
    "Method1"
   ]
  },
  {
   "cell_type": "code",
   "execution_count": 20,
   "metadata": {},
   "outputs": [],
   "source": [
    "def findOptim1(data):\n",
    "    rt=[]\n",
    "    for i in data:\n",
    "        scores=(1/np.array(i['lengthscales'])**2)/np.sum(1/np.array(i['lengthscales'])**2).item()\n",
    "\n",
    "        nps=0\n",
    "        for j in i['nonpredIdx'][0]:\n",
    "            if scores[j]>nps:\n",
    "                nps=scores[j]\n",
    "        ps=1000\n",
    "        for k in getPredIdx(i):\n",
    "            if scores[k[0]]<ps:\n",
    "                ps=scores[k[0]]\n",
    "                wr=i['respVar'][k[0]]['respVar'][0]\n",
    "        \n",
    "        rt.append((1-wr)*ps+wr*nps)\n",
    "    return rt        "
   ]
  },
  {
   "cell_type": "code",
   "execution_count": 21,
   "metadata": {},
   "outputs": [
    {
     "data": {
      "text/plain": [
       "0.04314147520274397"
      ]
     },
     "execution_count": 21,
     "metadata": {},
     "output_type": "execute_result"
    }
   ],
   "source": [
    "np.array(findOptim1(rNoOuputNoReg)).std()"
   ]
  },
  {
   "cell_type": "code",
   "execution_count": 22,
   "metadata": {},
   "outputs": [
    {
     "data": {
      "text/plain": [
       "0.04114052150165013"
      ]
     },
     "execution_count": 22,
     "metadata": {},
     "output_type": "execute_result"
    }
   ],
   "source": [
    "np.array(findOptim1(rOuputNoReg)).std()"
   ]
  },
  {
   "cell_type": "code",
   "execution_count": 23,
   "metadata": {},
   "outputs": [
    {
     "data": {
      "text/plain": [
       "0.03454485352502194"
      ]
     },
     "execution_count": 23,
     "metadata": {},
     "output_type": "execute_result"
    }
   ],
   "source": [
    "np.array(findOptim1(rNoOuputReg2)).std()"
   ]
  },
  {
   "cell_type": "code",
   "execution_count": 24,
   "metadata": {},
   "outputs": [
    {
     "data": {
      "text/plain": [
       "0.033824451374570776"
      ]
     },
     "execution_count": 24,
     "metadata": {},
     "output_type": "execute_result"
    }
   ],
   "source": [
    "np.array(findOptim1(rOuputReg2)).std()"
   ]
  },
  {
   "cell_type": "code",
   "execution_count": 25,
   "metadata": {},
   "outputs": [
    {
     "data": {
      "text/plain": [
       "0.03924588426060454"
      ]
     },
     "execution_count": 25,
     "metadata": {},
     "output_type": "execute_result"
    }
   ],
   "source": [
    "np.array(findOptim1(rNoOuputReg1)).std()"
   ]
  },
  {
   "cell_type": "code",
   "execution_count": 26,
   "metadata": {},
   "outputs": [
    {
     "data": {
      "text/plain": [
       "0.03387058893222707"
      ]
     },
     "execution_count": 26,
     "metadata": {},
     "output_type": "execute_result"
    }
   ],
   "source": [
    "np.array(findOptim1(rOuputReg1)).std()"
   ]
  },
  {
   "attachments": {},
   "cell_type": "markdown",
   "metadata": {},
   "source": [
    "Method2"
   ]
  },
  {
   "cell_type": "code",
   "execution_count": 27,
   "metadata": {},
   "outputs": [],
   "source": [
    "def findOptimSample(data, w):\n",
    "    scores=(1/np.array(data['lengthscales'])**2)/np.sum(1/np.array(data['lengthscales'])**2).item()\n",
    "    nps=0\n",
    "    for j in data['nonpredIdx'][0]:\n",
    "        if scores[j]>nps:\n",
    "            nps=scores[j]\n",
    "    ps=1000\n",
    "    s=0\n",
    "    for k in getPredIdx(data):\n",
    "        s=s+data['respVar'][k[0]]['respVar'][0]\n",
    "        if scores[k[0]]<ps:\n",
    "            ps=scores[k[0]]\n",
    "            wr=data['respVar'][k[0]]['respVar'][0]\n",
    "    wr=wr/s\n",
    "    return (nps+w*wr*ps)/(1+w*wr)\n",
    "\n",
    "def findAllOptimSample(data,w):\n",
    "    r=[]\n",
    "    for i in data:\n",
    "        r.append(findOptimSample(i,w))\n",
    "    return r\n"
   ]
  },
  {
   "cell_type": "code",
   "execution_count": 28,
   "metadata": {},
   "outputs": [
    {
     "name": "stdout",
     "output_type": "stream",
     "text": [
      "0.1116010157443317\n",
      "0.04194496922811371\n"
     ]
    }
   ],
   "source": [
    "print(np.array(findAllOptimSample(rNoOuputNoReg,0.7)).mean())\n",
    "print(np.array(findAllOptimSample(rNoOuputNoReg,0.7)).std())"
   ]
  },
  {
   "cell_type": "code",
   "execution_count": 29,
   "metadata": {},
   "outputs": [
    {
     "name": "stdout",
     "output_type": "stream",
     "text": [
      "0.11524262587946359\n",
      "0.041651049795474036\n"
     ]
    }
   ],
   "source": [
    "print(np.array(findAllOptimSample(rOuputNoReg,0.7)).mean())\n",
    "print(np.array(findAllOptimSample(rOuputNoReg,0.7)).std())"
   ]
  },
  {
   "cell_type": "code",
   "execution_count": 30,
   "metadata": {},
   "outputs": [
    {
     "name": "stdout",
     "output_type": "stream",
     "text": [
      "0.12177425496976443\n",
      "0.03483311474845642\n"
     ]
    }
   ],
   "source": [
    "print(np.array(findAllOptimSample(rNoOuputReg2,0.7)).mean())\n",
    "print(np.array(findAllOptimSample(rNoOuputReg2,0.7)).std())"
   ]
  },
  {
   "cell_type": "code",
   "execution_count": 31,
   "metadata": {},
   "outputs": [
    {
     "name": "stdout",
     "output_type": "stream",
     "text": [
      "0.12237842996329171\n",
      "0.03422758233249883\n"
     ]
    }
   ],
   "source": [
    "print(np.array(findAllOptimSample(rOuputReg2,0.7)).mean())\n",
    "print(np.array(findAllOptimSample(rOuputReg2,0.7)).std())"
   ]
  },
  {
   "cell_type": "code",
   "execution_count": 32,
   "metadata": {},
   "outputs": [
    {
     "name": "stdout",
     "output_type": "stream",
     "text": [
      "0.11407332233334724\n",
      "0.03918618858467659\n"
     ]
    }
   ],
   "source": [
    "print(np.array(findAllOptimSample(rNoOuputReg1,0.7)).mean())\n",
    "print(np.array(findAllOptimSample(rNoOuputReg1,0.7)).std())"
   ]
  },
  {
   "cell_type": "code",
   "execution_count": 33,
   "metadata": {},
   "outputs": [
    {
     "name": "stdout",
     "output_type": "stream",
     "text": [
      "0.12298016290983405\n",
      "0.03399286472000271\n"
     ]
    }
   ],
   "source": [
    "print(np.array(findAllOptimSample(rOuputReg1,0.7)).mean())\n",
    "print(np.array(findAllOptimSample(rOuputReg1,0.7)).std())"
   ]
  },
  {
   "attachments": {},
   "cell_type": "markdown",
   "metadata": {},
   "source": [
    "## Datasets"
   ]
  },
  {
   "cell_type": "code",
   "execution_count": 45,
   "metadata": {},
   "outputs": [],
   "source": [
    "def makeDatasets(data,w):\n",
    "    df=pd.DataFrame(columns=['WeightedNonLinear','VarWeightedNonLinear','WeightedCovs','VarWeightedCovs', 'RatioPred','Nfeatures','MeanCovs','VarCov','VarY','loss','binaryScore', 'threshold'])\n",
    "    df['threshold']=findAllOptimSample(data,w)\n",
    "    df['binaryScore']=0 #thresh(data,0.05,0.25,10000,5000)[-1]\n",
    "    df['WeightedNonLinear']=0\n",
    "    df['VarWeightedNonLinear']=0\n",
    "    df['WeightedCovs']=0\n",
    "    df['VarWeightedCovs']=0\n",
    "    df['RatioPred']=0\n",
    "    df['Nfeatures']=0\n",
    "    df['MeanCovs']=0\n",
    "    df['VarCov']=0\n",
    "    df['VarY']=0\n",
    "    df['loss']=0\n",
    "    for i in range(len(data)):\n",
    "        df.iloc[i,5]=data[i]['nk'][0]\n",
    "        df.iloc[i,4]=len(data[i]['nonpredIdx'])/data[i]['nk'][0]\n",
    "        df.iloc[i,-4]=data[i]['sigmay'][0]\n",
    "        df.iloc[i,-3]=data[i]['ExactMarginalLogLikelihood'][0]\n",
    "        covs=[]\n",
    "        for j in range(1,data[i]['nk'][0]):\n",
    "            for k in range(j):\n",
    "                covs.append(np.array(data[i]['covs'])[j,k])\n",
    "        df.iloc[i,6]=np.array(covs).mean().item()\n",
    "        df.iloc[i,7]=np.array(covs).std().item()\n",
    "        weightedR=[]\n",
    "        for j in getPredIdx(data[i]):\n",
    "            weightedR.append([data[i]['respVar'][j[0]]['respVar'][0], data[i]['respVar'][j[0]]['R^2'][0]])\n",
    "        df.iloc[i,0]=((np.array(weightedR)[:,0]/np.array(weightedR)[:,0].sum())*np.array(weightedR)[:,1]).mean().item()\n",
    "        df.iloc[i,1]=((np.array(weightedR)[:,0]/np.array(weightedR)[:,0].sum())*np.array(weightedR)[:,1]).std().item()\n",
    "        weightedCov=[]\n",
    "        for j in data[i]['nonpredIdx'][0]:\n",
    "            for k in getPredIdx(data[i]):\n",
    "                weightedCov.append([data[i]['respVar'][k[0]]['respVar'][0], np.array(data[i]['covs'])[j,k[0]]])\n",
    "        df.iloc[i,2]=((np.array(weightedCov)[:,0]/np.array(weightedCov)[:,0].sum())*np.array(weightedCov)[:,1]).mean().item()\n",
    "        df.iloc[i,3]=((np.array(weightedCov)[:,0]/np.array(weightedCov)[:,0].sum())*np.array(weightedCov)[:,1]).std().item()\n",
    "    return df\n"
   ]
  },
  {
   "cell_type": "code",
   "execution_count": 46,
   "metadata": {},
   "outputs": [],
   "source": [
    "df_rNoOuputNoReg=makeDatasets(rNoOuputNoReg,0.7)\n",
    "df_rOuputNoReg=makeDatasets(rOuputNoReg,0.7)\n",
    "df_rOuputReg1=makeDatasets(rOuputReg1,0.7)\n",
    "df_rNoOuputReg1=makeDatasets(rNoOuputReg1,0.7)\n",
    "df_rOuputReg2=makeDatasets(rOuputReg2,0.7)\n",
    "df_rNoOuputReg2=makeDatasets(rNoOuputReg2,0.7)"
   ]
  },
  {
   "cell_type": "code",
   "execution_count": 47,
   "metadata": {},
   "outputs": [
    {
     "data": {
      "text/html": [
       "<div>\n",
       "<style scoped>\n",
       "    .dataframe tbody tr th:only-of-type {\n",
       "        vertical-align: middle;\n",
       "    }\n",
       "\n",
       "    .dataframe tbody tr th {\n",
       "        vertical-align: top;\n",
       "    }\n",
       "\n",
       "    .dataframe thead th {\n",
       "        text-align: right;\n",
       "    }\n",
       "</style>\n",
       "<table border=\"1\" class=\"dataframe\">\n",
       "  <thead>\n",
       "    <tr style=\"text-align: right;\">\n",
       "      <th></th>\n",
       "      <th>WeightedNonLinear</th>\n",
       "      <th>VarWeightedNonLinear</th>\n",
       "      <th>WeightedCovs</th>\n",
       "      <th>VarWeightedCovs</th>\n",
       "      <th>RatioPred</th>\n",
       "      <th>Nfeatures</th>\n",
       "      <th>MeanCovs</th>\n",
       "      <th>VarCov</th>\n",
       "      <th>VarY</th>\n",
       "      <th>loss</th>\n",
       "      <th>binaryScore</th>\n",
       "      <th>threshold</th>\n",
       "    </tr>\n",
       "  </thead>\n",
       "  <tbody>\n",
       "    <tr>\n",
       "      <th>0</th>\n",
       "      <td>0.248108</td>\n",
       "      <td>0.120311</td>\n",
       "      <td>0.000039</td>\n",
       "      <td>0.006077</td>\n",
       "      <td>0.125000</td>\n",
       "      <td>8</td>\n",
       "      <td>-0.022374</td>\n",
       "      <td>0.087832</td>\n",
       "      <td>1.697671</td>\n",
       "      <td>1.023251</td>\n",
       "      <td>0</td>\n",
       "      <td>0.124722</td>\n",
       "    </tr>\n",
       "    <tr>\n",
       "      <th>1</th>\n",
       "      <td>0.133315</td>\n",
       "      <td>0.062674</td>\n",
       "      <td>0.000834</td>\n",
       "      <td>0.015370</td>\n",
       "      <td>0.166667</td>\n",
       "      <td>6</td>\n",
       "      <td>0.027179</td>\n",
       "      <td>0.076600</td>\n",
       "      <td>2.240563</td>\n",
       "      <td>1.330029</td>\n",
       "      <td>0</td>\n",
       "      <td>0.165299</td>\n",
       "    </tr>\n",
       "    <tr>\n",
       "      <th>2</th>\n",
       "      <td>0.086928</td>\n",
       "      <td>0.069312</td>\n",
       "      <td>-0.000498</td>\n",
       "      <td>0.002709</td>\n",
       "      <td>0.090909</td>\n",
       "      <td>11</td>\n",
       "      <td>-0.010238</td>\n",
       "      <td>0.074096</td>\n",
       "      <td>1.835249</td>\n",
       "      <td>1.227345</td>\n",
       "      <td>0</td>\n",
       "      <td>0.077056</td>\n",
       "    </tr>\n",
       "    <tr>\n",
       "      <th>3</th>\n",
       "      <td>0.247433</td>\n",
       "      <td>0.186838</td>\n",
       "      <td>-0.008617</td>\n",
       "      <td>0.015945</td>\n",
       "      <td>0.166667</td>\n",
       "      <td>6</td>\n",
       "      <td>0.025795</td>\n",
       "      <td>0.159353</td>\n",
       "      <td>0.980399</td>\n",
       "      <td>1.093767</td>\n",
       "      <td>0</td>\n",
       "      <td>0.166661</td>\n",
       "    </tr>\n",
       "    <tr>\n",
       "      <th>4</th>\n",
       "      <td>0.153450</td>\n",
       "      <td>0.110461</td>\n",
       "      <td>-0.001176</td>\n",
       "      <td>0.008329</td>\n",
       "      <td>0.111111</td>\n",
       "      <td>9</td>\n",
       "      <td>0.003699</td>\n",
       "      <td>0.141835</td>\n",
       "      <td>1.925212</td>\n",
       "      <td>1.191894</td>\n",
       "      <td>0</td>\n",
       "      <td>0.105455</td>\n",
       "    </tr>\n",
       "    <tr>\n",
       "      <th>...</th>\n",
       "      <td>...</td>\n",
       "      <td>...</td>\n",
       "      <td>...</td>\n",
       "      <td>...</td>\n",
       "      <td>...</td>\n",
       "      <td>...</td>\n",
       "      <td>...</td>\n",
       "      <td>...</td>\n",
       "      <td>...</td>\n",
       "      <td>...</td>\n",
       "      <td>...</td>\n",
       "      <td>...</td>\n",
       "    </tr>\n",
       "    <tr>\n",
       "      <th>195</th>\n",
       "      <td>0.099553</td>\n",
       "      <td>0.036755</td>\n",
       "      <td>-0.001340</td>\n",
       "      <td>0.004757</td>\n",
       "      <td>0.090909</td>\n",
       "      <td>11</td>\n",
       "      <td>-0.021967</td>\n",
       "      <td>0.138497</td>\n",
       "      <td>3.610033</td>\n",
       "      <td>1.970599</td>\n",
       "      <td>0</td>\n",
       "      <td>0.085269</td>\n",
       "    </tr>\n",
       "    <tr>\n",
       "      <th>196</th>\n",
       "      <td>1.000000</td>\n",
       "      <td>0.000000</td>\n",
       "      <td>-0.010084</td>\n",
       "      <td>0.016686</td>\n",
       "      <td>0.166667</td>\n",
       "      <td>6</td>\n",
       "      <td>-0.003771</td>\n",
       "      <td>0.085923</td>\n",
       "      <td>0.699718</td>\n",
       "      <td>0.986028</td>\n",
       "      <td>0</td>\n",
       "      <td>0.166962</td>\n",
       "    </tr>\n",
       "    <tr>\n",
       "      <th>197</th>\n",
       "      <td>0.082143</td>\n",
       "      <td>0.048347</td>\n",
       "      <td>0.000577</td>\n",
       "      <td>0.003551</td>\n",
       "      <td>0.090909</td>\n",
       "      <td>11</td>\n",
       "      <td>-0.002052</td>\n",
       "      <td>0.097691</td>\n",
       "      <td>3.476361</td>\n",
       "      <td>2.415709</td>\n",
       "      <td>0</td>\n",
       "      <td>0.089241</td>\n",
       "    </tr>\n",
       "    <tr>\n",
       "      <th>198</th>\n",
       "      <td>0.078918</td>\n",
       "      <td>0.034348</td>\n",
       "      <td>0.002917</td>\n",
       "      <td>0.006976</td>\n",
       "      <td>0.125000</td>\n",
       "      <td>8</td>\n",
       "      <td>0.026748</td>\n",
       "      <td>0.069132</td>\n",
       "      <td>0.758036</td>\n",
       "      <td>-0.133109</td>\n",
       "      <td>0</td>\n",
       "      <td>0.119613</td>\n",
       "    </tr>\n",
       "    <tr>\n",
       "      <th>199</th>\n",
       "      <td>0.146960</td>\n",
       "      <td>0.053132</td>\n",
       "      <td>-0.001083</td>\n",
       "      <td>0.003986</td>\n",
       "      <td>0.111111</td>\n",
       "      <td>9</td>\n",
       "      <td>-0.011450</td>\n",
       "      <td>0.069970</td>\n",
       "      <td>2.530610</td>\n",
       "      <td>1.169140</td>\n",
       "      <td>0</td>\n",
       "      <td>0.110145</td>\n",
       "    </tr>\n",
       "  </tbody>\n",
       "</table>\n",
       "<p>200 rows × 12 columns</p>\n",
       "</div>"
      ],
      "text/plain": [
       "     WeightedNonLinear  VarWeightedNonLinear  WeightedCovs  VarWeightedCovs  \\\n",
       "0             0.248108              0.120311      0.000039         0.006077   \n",
       "1             0.133315              0.062674      0.000834         0.015370   \n",
       "2             0.086928              0.069312     -0.000498         0.002709   \n",
       "3             0.247433              0.186838     -0.008617         0.015945   \n",
       "4             0.153450              0.110461     -0.001176         0.008329   \n",
       "..                 ...                   ...           ...              ...   \n",
       "195           0.099553              0.036755     -0.001340         0.004757   \n",
       "196           1.000000              0.000000     -0.010084         0.016686   \n",
       "197           0.082143              0.048347      0.000577         0.003551   \n",
       "198           0.078918              0.034348      0.002917         0.006976   \n",
       "199           0.146960              0.053132     -0.001083         0.003986   \n",
       "\n",
       "     RatioPred  Nfeatures  MeanCovs    VarCov      VarY      loss  \\\n",
       "0     0.125000          8 -0.022374  0.087832  1.697671  1.023251   \n",
       "1     0.166667          6  0.027179  0.076600  2.240563  1.330029   \n",
       "2     0.090909         11 -0.010238  0.074096  1.835249  1.227345   \n",
       "3     0.166667          6  0.025795  0.159353  0.980399  1.093767   \n",
       "4     0.111111          9  0.003699  0.141835  1.925212  1.191894   \n",
       "..         ...        ...       ...       ...       ...       ...   \n",
       "195   0.090909         11 -0.021967  0.138497  3.610033  1.970599   \n",
       "196   0.166667          6 -0.003771  0.085923  0.699718  0.986028   \n",
       "197   0.090909         11 -0.002052  0.097691  3.476361  2.415709   \n",
       "198   0.125000          8  0.026748  0.069132  0.758036 -0.133109   \n",
       "199   0.111111          9 -0.011450  0.069970  2.530610  1.169140   \n",
       "\n",
       "     binaryScore  threshold  \n",
       "0              0   0.124722  \n",
       "1              0   0.165299  \n",
       "2              0   0.077056  \n",
       "3              0   0.166661  \n",
       "4              0   0.105455  \n",
       "..           ...        ...  \n",
       "195            0   0.085269  \n",
       "196            0   0.166962  \n",
       "197            0   0.089241  \n",
       "198            0   0.119613  \n",
       "199            0   0.110145  \n",
       "\n",
       "[200 rows x 12 columns]"
      ]
     },
     "execution_count": 47,
     "metadata": {},
     "output_type": "execute_result"
    }
   ],
   "source": [
    "df_rOuputReg1"
   ]
  },
  {
   "cell_type": "code",
   "execution_count": 49,
   "metadata": {},
   "outputs": [
    {
     "data": {
      "text/plain": [
       "<AxesSubplot: xlabel='threshold', ylabel='Count'>"
      ]
     },
     "execution_count": 49,
     "metadata": {},
     "output_type": "execute_result"
    },
    {
     "data": {
      "image/png": "[encoded data removed]",
      "text/plain": [
       "<Figure size 640x480 with 1 Axes>"
      ]
     },
     "metadata": {},
     "output_type": "display_data"
    }
   ],
   "source": [
    "sns.histplot(df_rOuputReg1['threshold'], bins=25)"
   ]
  },
  {
   "cell_type": "code",
   "execution_count": 50,
   "metadata": {},
   "outputs": [
    {
     "name": "stdout",
     "output_type": "stream",
     "text": [
      "                            OLS Regression Results                            \n",
      "==============================================================================\n",
      "Dep. Variable:              threshold   R-squared:                       0.947\n",
      "Model:                            OLS   Adj. R-squared:                  0.944\n",
      "Method:                 Least Squares   F-statistic:                     337.7\n",
      "Date:                Mon, 20 Feb 2023   Prob (F-statistic):          8.21e-115\n",
      "Time:                        12:32:50   Log-Likelihood:                 686.29\n",
      "No. Observations:                 200   AIC:                            -1351.\n",
      "Df Residuals:                     189   BIC:                            -1314.\n",
      "Df Model:                          10                                         \n",
      "Covariance Type:            nonrobust                                         \n",
      "========================================================================================\n",
      "                           coef    std err          t      P>|t|      [0.025      0.975]\n",
      "----------------------------------------------------------------------------------------\n",
      "const                    0.0076      0.022      0.345      0.730      -0.036       0.051\n",
      "WeightedNonLinear        0.0067      0.007      0.981      0.328      -0.007       0.020\n",
      "VarWeightedNonLinear    -0.0494      0.016     -3.006      0.003      -0.082      -0.017\n",
      "WeightedCovs             0.0701      0.128      0.548      0.584      -0.182       0.322\n",
      "VarWeightedCovs          0.0216      0.106      0.203      0.839      -0.188       0.232\n",
      "RatioPred                0.9878      0.087     11.396      0.000       0.817       1.159\n",
      "Nfeatures             2.727e-05      0.001      0.019      0.985      -0.003       0.003\n",
      "MeanCovs                -0.0013      0.029     -0.046      0.964      -0.059       0.056\n",
      "VarCov                  -0.0109      0.016     -0.696      0.487      -0.042       0.020\n",
      "VarY                    -0.0031      0.001     -3.068      0.002      -0.005      -0.001\n",
      "loss                  8.863e-07   3.74e-06      0.237      0.813   -6.49e-06    8.26e-06\n",
      "==============================================================================\n",
      "Omnibus:                      155.616   Durbin-Watson:                   2.099\n",
      "Prob(Omnibus):                  0.000   Jarque-Bera (JB):             1398.724\n",
      "Skew:                          -3.084   Prob(JB):                    1.87e-304\n",
      "Kurtosis:                      14.393   Cond. No.                     3.67e+04\n",
      "==============================================================================\n",
      "\n",
      "Notes:\n",
      "[1] Standard Errors assume that the covariance matrix of the errors is correctly specified.\n",
      "[2] The condition number is large, 3.67e+04. This might indicate that there are\n",
      "strong multicollinearity or other numerical problems.\n"
     ]
    }
   ],
   "source": [
    "import statsmodels.api as sm\n",
    "y = df_rOuputReg1['threshold']\n",
    "x=df_rOuputReg1[['WeightedNonLinear','VarWeightedNonLinear','WeightedCovs','VarWeightedCovs', 'RatioPred','Nfeatures','MeanCovs','VarCov','VarY','loss']]\n",
    "x = sm.add_constant(x)\n",
    "model = sm.OLS(y, x).fit()\n",
    "print(model.summary())"
   ]
  },
  {
   "cell_type": "code",
   "execution_count": null,
   "metadata": {},
   "outputs": [],
   "source": []
  }
 ],
 "metadata": {
  "kernelspec": {
   "display_name": "GPpip",
   "language": "python",
   "name": "python3"
  },
  "language_info": {
   "codemirror_mode": {
    "name": "ipython",
    "version": 3
   },
   "file_extension": ".py",
   "mimetype": "text/x-python",
   "name": "python",
   "nbconvert_exporter": "python",
   "pygments_lexer": "ipython3",
   "version": "3.10.0"
  },
  "orig_nbformat": 4,
  "vscode": {
   "interpreter": {
    "hash": "4f8180dcc19875dbb0123ad238b90e7e37e40ccb4591f8df41b500227d6a6bed"
   }
  }
 },
 "nbformat": 4,
 "nbformat_minor": 2
}
